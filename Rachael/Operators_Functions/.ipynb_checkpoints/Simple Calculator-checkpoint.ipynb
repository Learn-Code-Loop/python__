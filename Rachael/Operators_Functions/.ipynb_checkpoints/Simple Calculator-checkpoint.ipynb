{
 "cells": [
  {
   "cell_type": "code",
   "execution_count": null,
   "metadata": {},
   "outputs": [
    {
     "name": "stdout",
     "output_type": "stream",
     "text": [
      "Select an operation you would like to use.\n",
      "1.Addition(+)\n",
      "2.Subtraction(-)\n",
      "3.Multiplication(*)\n",
      "4.Division(/)\n",
      "5.Modulo(%)\n"
     ]
    }
   ],
   "source": [
    "#This is a simple calculator\n",
    "#It calculates addition, subtraction, multiplication, division and modulob\n",
    "\n",
    "def add(x, y):\n",
    "    return x+y\n",
    "\n",
    "def subtract(x, y):\n",
    "    return x-y\n",
    "\n",
    "def multiply(x, y):\n",
    "    return x*y\n",
    "\n",
    "def divide (x, y):\n",
    "    return x/y\n",
    "\n",
    "def modulo(x, y):\n",
    "    return x%y\n",
    "\n",
    "print(\"Select an operation you would like to use.\")\n",
    "print(\"1.Addition(+)\")\n",
    "print(\"2.Subtraction(-)\")\n",
    "print(\"3.Multiplication(*)\")\n",
    "print(\"4.Division(/)\")\n",
    "print(\"5.Modulo(%)\")\n",
    "\n",
    "while True:\n",
    "    #taking input from the user\n",
    "    choice = input(\"Enter Choice (1,2,3,4,5): \")\n",
    "    #checking the choice\n",
    "    if choice in('1', '2', '3', '4', '5'):\n",
    "        num1 = float(input(\"Enter the first number: \"))\n",
    "        num2 = float(input(\"Enter the second number: \"))\n",
    "        \n",
    "        if choice == '1':\n",
    "            print(num1, '+', num2, '=', add(num1, num2))\n",
    "            \n",
    "        elif choice == '2':\n",
    "            print(num1, \"-\", num2, \"=\", subtract(num1, num2))\n",
    "\n",
    "                \n",
    "        elif choice == '3':\n",
    "                    print(num1, '*', num2, '=', multiply(num1, num2))\n",
    "                    \n",
    "        elif choice == '4':\n",
    "                        print(num1, '/', num2, '=', divide(num1, num2))\n",
    "                        \n",
    "        elif choice == '5':\n",
    "                            print(num1, '%', num2, '=', modulo(num1, num2))\n",
    "                            \n",
    "                            #check if the user wants another calculation\n",
    "        next_calculation =input (\"Do another calculation? (yes/no): \")\n",
    "                            #break the while loop if answer is no\n",
    "        if next_calculation == \"no\":\n",
    "                            \n",
    "                            break;\n",
    "                            \n",
    "        else:\n",
    "                                print(\"invalid input\")\n",
    "                \n",
    "\n"
   ]
  }
 ],
 "metadata": {
  "kernelspec": {
   "display_name": "Python 3",
   "language": "python",
   "name": "python3"
  },
  "language_info": {
   "codemirror_mode": {
    "name": "ipython",
    "version": 3
   },
   "file_extension": ".py",
   "mimetype": "text/x-python",
   "name": "python",
   "nbconvert_exporter": "python",
   "pygments_lexer": "ipython3",
   "version": "3.7.3"
  }
 },
 "nbformat": 4,
 "nbformat_minor": 2
}
