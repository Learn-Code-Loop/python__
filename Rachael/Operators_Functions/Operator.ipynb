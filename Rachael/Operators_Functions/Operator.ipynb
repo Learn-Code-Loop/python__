{
 "cells": [
  {
   "cell_type": "code",
   "execution_count": 52,
   "metadata": {},
   "outputs": [
    {
     "name": "stdout",
     "output_type": "stream",
     "text": [
      "sum:  15\n",
      "subtraction:  5\n",
      "multiplication:  50\n",
      "division (float):  2.0\n",
      "division (floor):  2\n",
      "mudulo:  0\n",
      "power  100000\n"
     ]
    }
   ],
   "source": [
    "# operator functions\n",
    "\n",
    "#Arithmetic Operators\n",
    "#Arithmetic operators are used to perform mathematical operations like addition, subtraction, multiplication, etc. For example,\n",
    "\n",
    "x = 10\n",
    "y = 5\n",
    "\n",
    "#Addition\n",
    "print('sum: ', x + y) #print sum:  15\n",
    "\n",
    "#subtraction\n",
    "print('subtraction: ', x - y) #print subtraction:  5\n",
    "\n",
    "#Multiplication\n",
    "print('multiplication: ', x * y) #print multiplication:  50\n",
    "\n",
    "#Division (float)\n",
    "print('division (float): ', x / y) #print division (float):  2.0\n",
    "\n",
    "#Division(floor)\n",
    "print('division (floor): ', x // y) #print division (floor):  2\n",
    "\n",
    "#Modulo\n",
    "print('mudulo: ', x % y) #print mudulo:  0\n",
    "\n",
    "#Exponentiation\n",
    "print('power ', x ** y) #print power  100000"
   ]
  },
  {
   "cell_type": "code",
   "execution_count": 51,
   "metadata": {},
   "outputs": [
    {
     "name": "stdout",
     "output_type": "stream",
     "text": [
      "sum=  15\n",
      "subtraction=  10\n",
      "multiplication  50\n",
      "division (float)=  10.0\n",
      "division (floor)=  2.0\n",
      "mudulo=  2.0\n",
      "power  32.0\n"
     ]
    }
   ],
   "source": [
    "#Assignment Operators\n",
    "#Assignment operators are used to assign values to variables. For example,\n",
    "\n",
    "#assign 10 to x and assign 5 to y\n",
    "x = 10\n",
    "y = 5\n",
    "\n",
    "#Addition Assignment\n",
    "x += y\n",
    "print('sum= ', x) #print sum=  15\n",
    "\n",
    "#subtraction Assignment\n",
    "x -= y\n",
    "print('subtraction= ', x) #print subtraction=  10\n",
    "\n",
    "#Multiplication Assignment\n",
    "x *= y\n",
    "print('multiplication ', x) #print multiplication  50\n",
    "\n",
    "#Division (float) Assignment\n",
    "x /= y\n",
    "print('division (float)= ', x) #print division (float)=  10.0\n",
    "\n",
    "#Division(floor) Assignment\n",
    "x //= y\n",
    "print('division (floor)= ', x) #print division (floor)=  2.0\n",
    "\n",
    "#Modulo Assignment\n",
    "x %= y\n",
    "print('mudulo= ', x) #print mudulo=  2.0\n",
    "\n",
    "#Exponentiation Assignment\n",
    "x **= y\n",
    "print('power ', x) #print power  32.0\n"
   ]
  },
  {
   "cell_type": "code",
   "execution_count": 50,
   "metadata": {},
   "outputs": [
    {
     "name": "stdout",
     "output_type": "stream",
     "text": [
      "x == y: False\n",
      "x != y: True\n",
      "x > y: True\n",
      "x < y: False\n",
      "x >= y: True\n",
      "x <= y: False\n"
     ]
    }
   ],
   "source": [
    "#Comparison Operators\n",
    "#Comparison operators compare two values/variables and return a boolean result: True or False. For example,\n",
    "\n",
    "x = 10\n",
    "y =  5\n",
    "\n",
    "#is equal to\n",
    "print('x == y:', x == y) #print x == y: False\n",
    "\n",
    "#not equal to\n",
    "print('x != y:', x != y) #print x != y: True\n",
    "\n",
    "#greater than\n",
    "print('x > y:', x > y) #print x > y: True\n",
    "\n",
    "#less than\n",
    "print('x < y:', x < y) #print x < y: False\n",
    "\n",
    "#greater than or equal to\n",
    "print('x >= y:', x >= y) #print x >= y: True\n",
    "\n",
    "#less than or equal to\n",
    "print('x <= y:', x <= y) #print x <= y: False\n",
    "\n",
    "\n",
    "\n"
   ]
  },
  {
   "cell_type": "code",
   "execution_count": 49,
   "metadata": {},
   "outputs": [
    {
     "name": "stdout",
     "output_type": "stream",
     "text": [
      "True\n",
      "False\n",
      "False\n",
      "True\n",
      "True\n",
      "False\n",
      "False\n",
      "True\n"
     ]
    }
   ],
   "source": [
    "#Logical Operators\n",
    "#Logical operators are used to check whether an expression is True or False. They are used in decision-making. For example,\n",
    "\n",
    "x = 10 \n",
    "y = 10 \n",
    "#Logical AND\n",
    "print(True and True) #print true\n",
    "print(True and False) #print false\n",
    "print(False and False) #print false\n",
    "\n",
    "#Logical OR\n",
    "print(True or True) #print true\n",
    "print(True or False) #print true\n",
    "print(False or False) #print false\n",
    "\n",
    "#Logical NOT\n",
    "print(not True) #print false\n",
    "print(not False) #print true\n"
   ]
  },
  {
   "cell_type": "code",
   "execution_count": 48,
   "metadata": {},
   "outputs": [
    {
     "name": "stdout",
     "output_type": "stream",
     "text": [
      "False\n",
      "True\n",
      "False\n"
     ]
    }
   ],
   "source": [
    "#Identity Operators\n",
    "#In Python, is and is not are used to check if two values are located on the same part of the memory.\n",
    "\n",
    "a = 1\n",
    "b = 1\n",
    "c = 'a'\n",
    "d = 'a'\n",
    "e = [1,2,3]\n",
    "f = [1,2,3]\n",
    "\n",
    "print(a is not b) #prints false because the two are identical(integers)\n",
    "print (c is d) #prints true because two are identical(strings)\n",
    "print(e is f) #prints false because the two are equal but not identical(they are in a list and therefore the interpreter locates them separately in memory)"
   ]
  },
  {
   "cell_type": "code",
   "execution_count": null,
   "metadata": {},
   "outputs": [],
   "source": []
  }
 ],
 "metadata": {
  "kernelspec": {
   "display_name": "Python 3",
   "language": "python",
   "name": "python3"
  },
  "language_info": {
   "codemirror_mode": {
    "name": "ipython",
    "version": 3
   },
   "file_extension": ".py",
   "mimetype": "text/x-python",
   "name": "python",
   "nbconvert_exporter": "python",
   "pygments_lexer": "ipython3",
   "version": "3.7.3"
  }
 },
 "nbformat": 4,
 "nbformat_minor": 2
}
