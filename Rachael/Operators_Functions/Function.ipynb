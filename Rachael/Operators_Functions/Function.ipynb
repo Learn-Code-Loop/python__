{
 "cells": [
  {
   "cell_type": "code",
   "execution_count": 2,

   "execution_count": 8,

   "metadata": {},
   "outputs": [
    {
     "ename": "SyntaxError",



     "evalue": "unexpected EOF while parsing (<ipython-input-2-5cd4218a6d84>, line 7)",
     "output_type": "error",
     "traceback": [
      "\u001b[0;36m  File \u001b[0;32m\"<ipython-input-2-5cd4218a6d84>\"\u001b[0;36m, line \u001b[0;32m7\u001b[0m\n\u001b[0;31m    \u001b[0m\n\u001b[0m    ^\u001b[0m\n\u001b[0;31mSyntaxError\u001b[0m\u001b[0;31m:\u001b[0m unexpected EOF while parsing\n"

     "evalute": "unexpected EOF while parsing (<ipython-input-8-c529c831f540>, line 6)",
     "output_type": "error",
     "traceback": [
      "\u001b[0;36m  File \u001b[0;32m\"<ipython-input-8-c529c831f540>\"\u001b[0;36m, line \u001b[0;32m6\u001b[0m\n\u001b[0;31m    \u001b[0m\n\u001b[0m    ^\u001b[0m\n\u001b[0;31mSyntaxError\u001b[0m\u001b[0;31m:\u001b[0m unexpected EOF while parsing\n"

     ]
    }
   ],
   "source": [
    "#In Python, you define a function with the def keyword, then write the function identifier (name) followed by parentheses and a colon.\n",
    "\n",
    "def functionName():\n",
    "    # What to make the function do\n",
    "\n",
    "            \n",
    "\n"
   ]
  },
  {
   "cell_type": "code",
   "execution_count": 1,
   "metadata": {},
   "outputs": [
    {
     "name": "stdout",
     "output_type": "stream",
     "text": [
      "53\n"
     ]
    }
   ],
   "source": [

    "\n",

    "def subtractNum():\n",
    "    print(100 - 47)\n",
    "\n",
    "subtractNum() # Output: 53"
   ]
  },
  {
   "cell_type": "code",
   "execution_count": null,
   "metadata": {},
   "outputs": [],
   "source": [
    "#Arguments in Python Functions\n",
    "\n",
    "def functionName(arg1, arg2):\n",
    "    # What to do with function\n",
    "    \n",
    "\n",
    "def addNum(num1, num2):\n",
    "    print(num1 + num2)\n",
    "addNum(10, 20)\n",
    "\n",
    "# Output: 30"
   ]
  },
  {
   "cell_type": "code",
   "execution_count": 13,
   "metadata": {},
   "outputs": [
    {
     "name": "stdout",
     "output_type": "stream",
     "text": [
      "80\n"
     ]
    }
   ],
   "source": [
    "#How to Use the Return Keyword in Python\n",
    "\n",
    "def multiplyNum(num1):\n",
    "    return num1 * 10\n",
    "\n",
    "result = multiplyNum(8)\n",
    "print(result)\n",
    "\n",
    "# Output: 80"
   ]
  }
 ],
 "metadata": {
  "kernelspec": {
   "display_name": "Python 3",
   "language": "python",
   "name": "python3"
  },
  "language_info": {
   "codemirror_mode": {
    "name": "ipython",
    "version": 3
   },
   "file_extension": ".py",
   "mimetype": "text/x-python",
   "name": "python",
   "nbconvert_exporter": "python",
   "pygments_lexer": "ipython3",
   "version": "3.7.3"
  }
 },
 "nbformat": 4,
 "nbformat_minor": 2
}
