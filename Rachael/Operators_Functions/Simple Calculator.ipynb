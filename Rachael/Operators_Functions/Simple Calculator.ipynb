{
 "cells": [
  {
   "cell_type": "code",
   "execution_count": 4,
   "metadata": {},
   "outputs": [
    {
     "name": "stdout",
     "output_type": "stream",
     "text": [
      "Select an operation you would like to use.\n",
      "1.Addition(+)\n",
      "2.Subtraction(-)\n",
      "3.Multiplication(*)\n",
      "4.Division(/)\n",
      "5.Modulo(%)\n",
      "23.0 + 23.0 = 46.0\n"
     ]
    }
   ],
   "source": [
    "#This is a simple calculator\n",
    "#It calculates addition, subtraction, multiplication, division and modulob\n",
    "\n",
    "def add(x, y):\n",
    "    return x+y\n",
    "\n",
    "def subtract(x, y):\n",
    "    return x-y\n",
    "\n",
    "def multiply(x, y):\n",
    "    return x*y\n",
    "\n",
    "def divide (x, y):\n",
    "    return x/y\n",
    "\n",
    "def modulo(x, y):\n",
    "    return x%y\n",
    "\n",
    "print(\"Select an operation you would like to use.\")\n",
    "print(\"1.Addition(+)\")\n",
    "print(\"2.Subtraction(-)\")\n",
    "print(\"3.Multiplication(*)\")\n",
    "print(\"4.Division(/)\")\n",
    "print(\"5.Modulo(%)\")\n",
    "\n",
    "while True:\n",
    "    #taking input from the user\n",
    "    choice = input(\"Enter Choice (1,2,3,4,5): \")\n",
    "    #checking the choice\n",
    "    if choice in('1', '2', '3', '4', '5'):\n",
    "        num1 = float(input(\"Enter the first number: \"))\n",
    "        num2 = float(input(\"Enter the second number: \"))\n",
    "        \n",
    "        if choice == '1':\n",
    "            print(num1, '+', num2, '=', add(num1, num2))\n",
    "            \n",
    "        elif choice == '2':\n",
    "            print(num1, \"-\", num2, \"=\", subtract(num1, num2))\n",
    "\n",
    "                \n",
    "        elif choice == '3':\n",
    "                    print(num1, '*', num2, '=', multiply(num1, num2))\n",
    "                    \n",
    "        elif choice == '4':\n",
    "                        print(num1, '/', num2, '=', divide(num1, num2))\n",
    "                        \n",
    "        elif choice == '5':\n",
    "                            print(num1, '%', num2, '=', modulo(num1, num2))\n",
    "                            \n",
    "                            #check if the user wants another calculation\n",
    "        next_calculation =input (\"Do another calculation? (yes/no): \")\n",
    "                            #break the while loop if answer is no\n",
    "        if next_calculation == \"no\":\n",
    "                            \n",
    "                            break;\n",
    "                            \n",
    "        else:\n",
    "                                print(\"invalid input\")\n",
    "                \n",
    "\n"
   ]
  },
  {
   "cell_type": "markdown",
   "metadata": {},
   "source": [
    "### Correction program \n",
    "- Compare the programs"
   ]
  },
  {
   "cell_type": "code",
   "execution_count": 10,
   "metadata": {},
   "outputs": [],
   "source": [
    "def summation(*args):\n",
    "    s = 0\n",
    "    for i in range(len(args)):\n",
    "        s += i\n",
    "    return \"The sum of {} is: {}\".format(args,  s)"
   ]
  },
  {
   "cell_type": "code",
   "execution_count": 6,
   "metadata": {},
   "outputs": [],
   "source": [
    "def subtraction(x, y):\n",
    "    return \"The subtraction of {} and {} is: {}\".format( x, y, x - y)\n",
    "\n",
    "\n"
   ]
  },
  {
   "cell_type": "code",
   "execution_count": 7,
   "metadata": {},
   "outputs": [],
   "source": [
    "def mult(*args):\n",
    "    result = 1\n",
    "    for i in args:\n",
    "        result = result * i\n",
    "    return result\n",
    "\n"
   ]
  },
  {
   "cell_type": "code",
   "execution_count": 8,
   "metadata": {},
   "outputs": [],
   "source": [
    "def main():\n",
    "    print('Enter a choice: \\n\\tAddition: [1] \\n\\tSubtraction: [2] \\n\\tMultiplication: [3]\\n\\n\\t ')\n",
    "    choice = int(input('Enter choice: > '))\n",
    "    if choice == 1:\n",
    "        user_input = str (input('Enter numbers sepatate by space: ')).strip()\n",
    "        print(summation(user_input))\n",
    "    elif choice == 2:\n",
    "        x = int (input('Enter x: '))\n",
    "        y = int (input('Enter y: '))\n",
    "        print(subtraction(x,y))\n",
    "    elif choice == 3:\n",
    "        user_input = str(input('Enter numbers sepatate by space: ')).strip()\n",
    "        print(mult(user_input))\n",
    "\n",
    "    elif choice == 4:\n",
    "        main()\n",
    "    \n",
    "    elif choice == 0:\n",
    "        exit(0)\n",
    "    else:\n",
    "        print('Wrong input!!! ')\n",
    "        main()\n"
   ]
  },
  {
   "cell_type": "code",
   "execution_count": 11,
   "metadata": {},
   "outputs": [
    {
     "name": "stdout",
     "output_type": "stream",
     "text": [
      "Enter a choice: \n",
      "\tAddition: [1] \n",
      "\tSubtraction: [2] \n",
      "\tMultiplication: [3]\n",
      "\n",
      "\t \n",
      "Wrong input!!! \n",
      "Enter a choice: \n",
      "\tAddition: [1] \n",
      "\tSubtraction: [2] \n",
      "\tMultiplication: [3]\n",
      "\n",
      "\t \n",
      "The sum of ('1',) is: 0\n"
     ]
    }
   ],
   "source": [
    "\n",
    "if __name__ == '__main__':\n",
    "    main()"
   ]
  }
 ],
 "metadata": {
  "kernelspec": {
   "display_name": "Python 3.9.2 64-bit",
   "language": "python",
   "name": "python3"
  },
  "language_info": {
   "codemirror_mode": {
    "name": "ipython",
    "version": 3
   },
   "file_extension": ".py",
   "mimetype": "text/x-python",
   "name": "python",
   "nbconvert_exporter": "python",
   "pygments_lexer": "ipython3",
   "version": "3.9.2"
  },
  "vscode": {
   "interpreter": {
    "hash": "916dbcbb3f70747c44a77c7bcd40155683ae19c65e1c03b4aa3499c5328201f1"
   }
  }
 },
 "nbformat": 4,
 "nbformat_minor": 2
}
